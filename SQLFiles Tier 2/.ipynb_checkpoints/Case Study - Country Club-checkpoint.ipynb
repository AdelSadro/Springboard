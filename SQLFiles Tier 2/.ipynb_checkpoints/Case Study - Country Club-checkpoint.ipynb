{
 "cells": [
  {
   "cell_type": "markdown",
   "metadata": {},
   "source": [
    "# Case Study - Country Club"
   ]
  },
  {
   "cell_type": "markdown",
   "metadata": {},
   "source": [
    "### Table of Content<a id=\"TOC\"></a>\n",
    "* [Introduction](#Intro)<a id=\"Intro\"></a></br>\n",
    "* [Part 1](#P1)</br>\n",
    "    * [Question 1](#Q1)</br>\n",
    "    * [Question 2](#Q2)</br>\n",
    "    * [Question 3](#Q3)</br>\n",
    "    * [Question 4](#Q4)</br>\n",
    "    * [Question 5](#Q5)</br>\n",
    "    * [Question 6](#Q6)</br>\n",
    "    * [Question 7](#Q7)</br>\n",
    "    * [Question 8](#Q8)</br>\n",
    "    * [Question 9](#Q9)</br>\n",
    "* [Part 2](#P2)</br>\n",
    "    * [Question 10](#Q10)</br>\n",
    "    * [Question 11](#Q11)</br>\n",
    "    * [Question 12](#Q12)</br>\n",
    "    * [Question 13](#Q13)</br>"
   ]
  },
  {
   "cell_type": "markdown",
   "metadata": {},
   "source": [
    "## <a class=\"anchor\" id=\"Intro\">[Introduction](#TOC)</a>"
   ]
  },
  {
   "cell_type": "markdown",
   "metadata": {},
   "source": [
    "Welcome to the SQL mini project. You will carry out this project partly in the PHPMyAdmin interface, and partly in Jupyter via a Python connection.\n",
    "\n",
    "This is Tier 2 of the case study, which means that there'll be less guidance for you about how to setup your local SQLite connection in PART 2 of the case study. This will make the case study more challenging for you. You might need to do some digging, and revise the Working with Relational Databases in Python chapter in the previous resource. Otherwise, the questions in the case study are exactly the same as with Tier 1. \n",
    "\n",
    "PART 1: PHPMyAdmin\n",
    "You will complete questions 1-9 below in the PHPMyAdmin interface. Log in by pasting the following URL into your browser, and using the following Username and Password:\n",
    "URL: https://sql.springboard.com/\n",
    "Username: student\n",
    "Password: learn_sql@springboard\n",
    "\n",
    "The data you need is in the \"country_club\" database. This database contains 3 tables:\n",
    "    i) the \"Bookings\" table\n",
    "    ii) the \"Facilities\" table, and\n",
    "    iii) the \"Members\" table.\n",
    "\n",
    "In this case study, you'll be asked a series of questions. You can solve them using the platform, but for the final deliverable, paste the code for each solution into this script, and upload it to your GitHub.\n",
    "\n",
    "Before starting with the questions, feel free to take your time, exploring the data, and getting acquainted with the 3 tables."
   ]
  },
  {
   "cell_type": "markdown",
   "metadata": {},
   "source": [
    "## <a class=\"anchor\" id=\"P1\">[Part 1](#TOC)</a>"
   ]
  },
  {
   "cell_type": "markdown",
   "metadata": {},
   "source": [
    "## <a class=\"anchor\" id=\"Q1\">[Question 1](#TOC)</a>"
   ]
  },
  {
   "cell_type": "markdown",
   "metadata": {},
   "source": [
    "Some of the facilities charge a fee to members, but some do not. Write a SQL query to produce a list of the names of the facilities that do."
   ]
  },
  {
   "cell_type": "raw",
   "metadata": {},
   "source": [
    "select name\n",
    "from Facilities\n",
    "where membercost > 0;"
   ]
  },
  {
   "cell_type": "markdown",
   "metadata": {},
   "source": [
    "## <a class=\"anchor\" id=\"Q2\">[Question 2](#TOC)</a>"
   ]
  },
  {
   "cell_type": "markdown",
   "metadata": {},
   "source": [
    "How many facilities do not charge a fee to members?"
   ]
  },
  {
   "cell_type": "raw",
   "metadata": {},
   "source": [
    "select count(*)\n",
    "from(\n",
    "\tselect name\n",
    "\tfrom Facilities\n",
    "\twhere membercost = 0) as no_fee_facilities_cnt;"
   ]
  },
  {
   "cell_type": "markdown",
   "metadata": {},
   "source": [
    "## <a class=\"anchor\" id=\"Q3\">[Question 3](#TOC)</a>"
   ]
  },
  {
   "cell_type": "markdown",
   "metadata": {},
   "source": [
    "Write an SQL query to show a list of facilities that charge a fee to members, where the fee is less than 20% of the facility's monthly maintenance cost. Return the facid, facility name, member cost, and monthly maintenance of the\n",
    "facilities in question."
   ]
  },
  {
   "cell_type": "raw",
   "metadata": {},
   "source": [
    "select facid, name, membercost, monthlymaintenance\n",
    "from Facilities\n",
    "where membercost > 0 and membercost < (0.2 * monthlymaintenance)"
   ]
  },
  {
   "cell_type": "markdown",
   "metadata": {},
   "source": [
    "## <a class=\"anchor\" id=\"Q4\">[Question 4](#TOC)</a>"
   ]
  },
  {
   "cell_type": "markdown",
   "metadata": {},
   "source": [
    "Write an SQL query to retrieve the details of facilities with ID 1 and 5. Try writing the query without using the OR operator."
   ]
  },
  {
   "cell_type": "raw",
   "metadata": {},
   "source": [
    "select *\n",
    "from Facilities\n",
    "where facid in (1, 5);"
   ]
  },
  {
   "cell_type": "markdown",
   "metadata": {},
   "source": [
    "## <a class=\"anchor\" id=\"Q5\">[Question 5](#TOC)</a>"
   ]
  },
  {
   "cell_type": "markdown",
   "metadata": {},
   "source": [
    "Produce a list of facilities, with each labelled as 'cheap' or 'expensive', depending on if their monthly maintenance cost is more than $100. Return the name and monthly maintenance of the facilities in question."
   ]
  },
  {
   "cell_type": "raw",
   "metadata": {},
   "source": [
    "select name, monthlymaintenance,\n",
    "case\n",
    "\twhen monthlymaintenance > 100 then 'expensive'\n",
    "\telse 'cheap'\n",
    "end as label\n",
    "from Facilities;"
   ]
  },
  {
   "cell_type": "markdown",
   "metadata": {},
   "source": [
    "## <a class=\"anchor\" id=\"Q6\">[Question 6](#TOC)</a>"
   ]
  },
  {
   "cell_type": "markdown",
   "metadata": {},
   "source": [
    "You'd like to get the first and last name of the last member(s) who signed up. Try not to use the LIMIT clause for your solution."
   ]
  },
  {
   "cell_type": "raw",
   "metadata": {},
   "source": [
    "select firstname, surname\n",
    "from Members\n",
    "where joindate = \n",
    "\t(select max(joindate)\n",
    "     from Members);"
   ]
  },
  {
   "cell_type": "markdown",
   "metadata": {},
   "source": [
    "## <a class=\"anchor\" id=\"Q7\">[Question 7](#TOC)</a>"
   ]
  },
  {
   "cell_type": "markdown",
   "metadata": {},
   "source": [
    "Produce a list of all members who have used a tennis court. Include in your output the name of the court, and the name of the member formatted as a single column. Ensure no duplicate data, and order by the member name."
   ]
  },
  {
   "cell_type": "raw",
   "metadata": {},
   "source": [
    "select distinct F.name, concat(M.firstname, \" \", M.surname) as member\n",
    "from Facilities as F\n",
    "left join Bookings as B\n",
    "on F.facid = B.facid\n",
    "left join Members as M\n",
    "on B.memid = M.memid\n",
    "where name like \"Tennis%\";"
   ]
  },
  {
   "cell_type": "markdown",
   "metadata": {},
   "source": [
    "## <a class=\"anchor\" id=\"Q8\">[Question 8](#TOC)</a>"
   ]
  },
  {
   "cell_type": "markdown",
   "metadata": {},
   "source": [
    "Produce a list of bookings on the day of 2012-09-14 which will cost the member (or guest) more than $30. Remember that guests have different costs to members (the listed costs are per half-hour 'slot'), and the guest user's ID is always 0. Include in your output the name of the facility, the name of the member formatted as a single column, and the cost. Order by descending cost, and do not use any subqueries."
   ]
  },
  {
   "cell_type": "raw",
   "metadata": {},
   "source": [
    "select F.name, concat(M.firstname, \" \", M.surname) as name_member, F.membercost as cost_member, F.guestcost as cost_guest, B.slots, B.memid,\n",
    "case\n",
    "\twhen B.memid = 0 then F.guestcost * B.slots\n",
    "\telse F.membercost * B.slots \n",
    "end as cost\n",
    "from Bookings as B\n",
    "left join Facilities as F\n",
    "on B.facid = F.facid\n",
    "left join Members as M\n",
    "on B.memid = M.memid\n",
    "where B.starttime like \"2012-09-14%\" and ((B.memid = 0 and F.guestcost * B.slots > 30) or (B.memid <> 0 and F.membercost * B.slots > 30))\n",
    "order by cost DESC;"
   ]
  },
  {
   "cell_type": "markdown",
   "metadata": {},
   "source": [
    "## <a class=\"anchor\" id=\"Q9\">[Question 9](#TOC)</a>"
   ]
  },
  {
   "cell_type": "markdown",
   "metadata": {},
   "source": [
    "This time, produce the same result as in Q8, but using a subquery."
   ]
  },
  {
   "cell_type": "raw",
   "metadata": {},
   "source": [
    "select F.name, concat(M.firstname, \" \", M.surname) as name_member, F.membercost as cost_member, F.guestcost as cost_guest, B.slots, B.memid, B.starttime,\n",
    "case\n",
    "\twhen B.memid = 0 then F.guestcost * B.slots\n",
    "\telse F.membercost * B.slots \n",
    "end as cost\n",
    "from Bookings as B, Facilities as F, Members as M\n",
    "where B.starttime like \"2012-09-14%\" and\n",
    "\t\tB.facid in (select facid from Facilities where (B.memid = 0 and F.guestcost * B.slots > 30) or (B.memid <> 0 and F.membercost * B.slots > 30)) and\n",
    "\t\tB.memid in (select memid from Members)\n",
    "order by cost DESC;"
   ]
  },
  {
   "cell_type": "markdown",
   "metadata": {},
   "source": [
    "## these two queries producing different results and I don't understand which one is wrong and why?!"
   ]
  },
  {
   "cell_type": "markdown",
   "metadata": {},
   "source": [
    "## <a class=\"anchor\" id=\"P2\">[Part 2](#TOC)</a>"
   ]
  },
  {
   "cell_type": "markdown",
   "metadata": {},
   "source": [
    "SQLite - Export the country club data from PHPMyAdmin, and connect to a local SQLite instance from Jupyter notebook \n",
    "for the following questions."
   ]
  },
  {
   "cell_type": "code",
   "execution_count": 157,
   "metadata": {},
   "outputs": [
    {
     "name": "stdout",
     "output_type": "stream",
     "text": [
      "         name\n",
      "0    Bookings\n",
      "1  Facilities\n",
      "2     Members\n"
     ]
    }
   ],
   "source": [
    "from sqlalchemy import create_engine\n",
    "import pandas as pd\n",
    "\n",
    "engine = create_engine('sqlite:////Users/adelsadr/Springboard/SQLFiles Tier 2/sqlite_db_pythonsqlite.db')\n",
    "\n",
    "query1 = '''\n",
    "select name \n",
    "from sqlite_master \n",
    "where type = 'table';\n",
    "'''\n",
    "\n",
    "tbl_df = pd.read_sql_query(query1, engine)\n",
    "print(tbl_df)"
   ]
  },
  {
   "cell_type": "markdown",
   "metadata": {},
   "source": [
    "## <a class=\"anchor\" id=\"Q10\">[Question 10](#TOC)</a>"
   ]
  },
  {
   "cell_type": "markdown",
   "metadata": {},
   "source": [
    "Produce a list of facilities with a total revenue less than 1000. The output of facility name and total revenue, sorted by revenue. Remember that there's a different cost for guests and members!"
   ]
  },
  {
   "cell_type": "code",
   "execution_count": 142,
   "metadata": {},
   "outputs": [
    {
     "name": "stdout",
     "output_type": "stream",
     "text": [
      "   facid  memid  total_slots  membercost  guestcost  revenue\n",
      "0      2      1         1209         0.0       15.5      0.0\n",
      "1      3      1          830         0.0        5.0      0.0\n",
      "2      7      1          908         0.0        5.0      0.0\n",
      "3      8      1          910         0.0        5.0      0.0\n",
      "4      0      2         1320         5.0       25.0   6600.0\n",
      "5      4      1         1404         9.9       80.0  13899.6\n",
      "6      5      0          228         9.9       80.0  18240.0\n",
      "7      6      0         1104         3.5       17.5  19320.0\n",
      "8      1      0         1278         5.0       25.0  31950.0\n"
     ]
    }
   ],
   "source": [
    "query_Q10 = '''\n",
    "SELECT B.facid, memid, SUM(slots) AS total_slots, membercost, guestcost,\n",
    "CASE \n",
    "\tWHEN memid = 0 THEN (guestcost * SUM(slots))\n",
    "\tWHEN memid <> 0 THEN (membercost * SUM(slots)) \n",
    "END as revenue \n",
    "FROM Bookings AS B\n",
    "LEFT JOIN Facilities AS F ON F.facid = B.facid\n",
    "GROUP BY B.facid\n",
    "/*WHERE revenue < 1000*/\n",
    "ORDER BY revenue;\n",
    "'''\n",
    "\n",
    "fac_rev_df = pd.read_sql_query(query_Q10, engine)\n",
    "print(fac_rev_df)"
   ]
  },
  {
   "cell_type": "markdown",
   "metadata": {},
   "source": [
    "## <a class=\"anchor\" id=\"Q11\">[Question 11](#TOC)</a>"
   ]
  },
  {
   "cell_type": "markdown",
   "metadata": {},
   "source": [
    "Produce a report of members and who recommended them in alphabetic surname, firstname order."
   ]
  },
  {
   "cell_type": "code",
   "execution_count": 138,
   "metadata": {},
   "outputs": [
    {
     "name": "stdout",
     "output_type": "stream",
     "text": [
      "       member_surname member_firstname recommendedby_surname  \\\n",
      "0               Bader         Florence              Stibbons   \n",
      "1               Baker             Anne              Stibbons   \n",
      "2               Baker          Timothy               Farrell   \n",
      "3              Boothe              Tim                Rownam   \n",
      "4             Butters           Gerald                 Smith   \n",
      "5              Coplin             Joan                 Baker   \n",
      "6             Crumpet            Erica                 Smith   \n",
      "7                Dare            Nancy              Joplette   \n",
      "8             Farrell            David                  None   \n",
      "9             Farrell           Jemima                  None   \n",
      "10              GUEST            GUEST                  None   \n",
      "11            Genting          Matthew               Butters   \n",
      "12               Hunt             John               Purview   \n",
      "13              Jones            David              Joplette   \n",
      "14              Jones          Douglas                 Jones   \n",
      "15           Joplette           Janice                 Smith   \n",
      "16          Mackenzie             Anna                 Smith   \n",
      "17               Owen          Charles                 Smith   \n",
      "18             Pinker            David               Farrell   \n",
      "19            Purview        Millicent                 Smith   \n",
      "20             Rownam              Tim                  None   \n",
      "21             Rumney        Henrietta               Genting   \n",
      "22             Sarwin        Ramnaresh                 Bader   \n",
      "23              Smith           Darren                  None   \n",
      "24              Smith           Darren                  None   \n",
      "25              Smith             Jack                 Smith   \n",
      "26              Smith            Tracy                  None   \n",
      "27           Stibbons           Ponder                 Tracy   \n",
      "28              Tracy           Burton                  None   \n",
      "29         Tupperware         Hyacinth                  None   \n",
      "30  Worthington-Smyth            Henry                 Smith   \n",
      "\n",
      "   recommendedby_firstname  \n",
      "0                   Ponder  \n",
      "1                   Ponder  \n",
      "2                   Jemima  \n",
      "3                      Tim  \n",
      "4                   Darren  \n",
      "5                  Timothy  \n",
      "6                    Tracy  \n",
      "7                   Janice  \n",
      "8                     None  \n",
      "9                     None  \n",
      "10                    None  \n",
      "11                  Gerald  \n",
      "12               Millicent  \n",
      "13                  Janice  \n",
      "14                   David  \n",
      "15                  Darren  \n",
      "16                  Darren  \n",
      "17                  Darren  \n",
      "18                  Jemima  \n",
      "19                   Tracy  \n",
      "20                    None  \n",
      "21                 Matthew  \n",
      "22                Florence  \n",
      "23                    None  \n",
      "24                    None  \n",
      "25                  Darren  \n",
      "26                    None  \n",
      "27                  Burton  \n",
      "28                    None  \n",
      "29                    None  \n",
      "30                   Tracy  \n"
     ]
    }
   ],
   "source": [
    "query_Q11 = '''\n",
    "select M.surname as member_surname, M.firstname as member_firstname, R.surname as recommendedby_surname, \n",
    "\tR.firstname as recommendedby_firstname\n",
    "from Members as M\n",
    "left join Members as R\n",
    "on M.recommendedby = R.memid\n",
    "order by member_surname, member_firstname;\n",
    "'''\n",
    "\n",
    "mbr_recmn_df = pd.read_sql_query(query_Q11, engine)\n",
    "print(mbr_recmn_df)"
   ]
  },
  {
   "cell_type": "markdown",
   "metadata": {},
   "source": [
    "## <a class=\"anchor\" id=\"Q12\">[Question 12](#TOC)</a>"
   ]
  },
  {
   "cell_type": "markdown",
   "metadata": {},
   "source": [
    "Find the facilities with their usage by member, but not guests."
   ]
  },
  {
   "cell_type": "code",
   "execution_count": 139,
   "metadata": {},
   "outputs": [
    {
     "name": "stdout",
     "output_type": "stream",
     "text": [
      "     facid             name  memid\n",
      "0        3     Table Tennis      1\n",
      "1        4   Massage Room 1      1\n",
      "2        7    Snooker Table      1\n",
      "3        8       Pool Table      1\n",
      "4        6     Squash Court      1\n",
      "..     ...              ...    ...\n",
      "197      6     Squash Court     35\n",
      "198      2  Badminton Court     36\n",
      "199      4   Massage Room 1     36\n",
      "200      0   Tennis Court 1     36\n",
      "201      3     Table Tennis     36\n",
      "\n",
      "[202 rows x 3 columns]\n"
     ]
    }
   ],
   "source": [
    "query_Q12 = '''\n",
    "select distinct F.facid, F.name, B.memid\n",
    "from Facilities as F\n",
    "left join Bookings as B\n",
    "on F.facid = B.facid\n",
    "where memid <> 0\n",
    "order by memid;\n",
    "'''\n",
    "\n",
    "fac_mbr_df = pd.read_sql_query(query_Q12, engine)\n",
    "print(fac_mbr_df)"
   ]
  },
  {
   "cell_type": "markdown",
   "metadata": {},
   "source": [
    "## <a class=\"anchor\" id=\"Q13\">[Question 13](#TOC)</a>"
   ]
  },
  {
   "cell_type": "markdown",
   "metadata": {},
   "source": [
    "Find the facilities usage by month, but not guests."
   ]
  },
  {
   "cell_type": "code",
   "execution_count": 141,
   "metadata": {},
   "outputs": [
    {
     "name": "stdout",
     "output_type": "stream",
     "text": [
      "    facid             name Month\n",
      "0       3     Table Tennis    07\n",
      "1       4   Massage Room 1    07\n",
      "2       7    Snooker Table    07\n",
      "3       8       Pool Table    07\n",
      "4       0   Tennis Court 1    07\n",
      "5       6     Squash Court    07\n",
      "6       2  Badminton Court    07\n",
      "7       1   Tennis Court 2    07\n",
      "8       5   Massage Room 2    07\n",
      "9       0   Tennis Court 1    08\n",
      "10      1   Tennis Court 2    08\n",
      "11      2  Badminton Court    08\n",
      "12      3     Table Tennis    08\n",
      "13      4   Massage Room 1    08\n",
      "14      5   Massage Room 2    08\n",
      "15      6     Squash Court    08\n",
      "16      7    Snooker Table    08\n",
      "17      8       Pool Table    08\n",
      "18      0   Tennis Court 1    09\n",
      "19      1   Tennis Court 2    09\n",
      "20      2  Badminton Court    09\n",
      "21      3     Table Tennis    09\n",
      "22      4   Massage Room 1    09\n",
      "23      5   Massage Room 2    09\n",
      "24      6     Squash Court    09\n",
      "25      7    Snooker Table    09\n",
      "26      8       Pool Table    09\n"
     ]
    }
   ],
   "source": [
    "query_Q13 = '''\n",
    "select distinct F.facid, F.name, strftime('%m',B.starttime) as Month\n",
    "from Facilities as F\n",
    "left join Bookings as B\n",
    "on F.facid = B.facid\n",
    "where memid <> 0\n",
    "order by month;\n",
    "'''\n",
    "\n",
    "fac_month_df = pd.read_sql_query(query_Q13, engine)\n",
    "print(fac_month_df)"
   ]
  }
 ],
 "metadata": {
  "kernelspec": {
   "display_name": "Python 3",
   "language": "python",
   "name": "python3"
  },
  "language_info": {
   "codemirror_mode": {
    "name": "ipython",
    "version": 3
   },
   "file_extension": ".py",
   "mimetype": "text/x-python",
   "name": "python",
   "nbconvert_exporter": "python",
   "pygments_lexer": "ipython3",
   "version": "3.8.3"
  }
 },
 "nbformat": 4,
 "nbformat_minor": 4
}
